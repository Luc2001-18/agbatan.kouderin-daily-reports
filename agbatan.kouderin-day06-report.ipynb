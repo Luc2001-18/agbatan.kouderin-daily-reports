{
 "cells": [
  {
   "cell_type": "markdown",
   "id": "integral-mobile",
   "metadata": {},
   "source": [
    "Exercice 1"
   ]
  },
  {
   "cell_type": "code",
   "execution_count": 137,
   "id": "corrected-poverty",
   "metadata": {},
   "outputs": [
    {
     "name": "stdout",
     "output_type": "stream",
     "text": [
      "The odd sum is :  3\n",
      "The even product is :  15\n"
     ]
    }
   ],
   "source": [
    "    s=0\n",
    "    i=0\n",
    "    p=1\n",
    "    while (i < 3 ):\n",
    "        if i%2!=0 :\n",
    "            s=s+3\n",
    "            i=i+1\n",
    "        else :\n",
    "            p=p*(i+3)\n",
    "            i=i+1\n",
    "    \n",
    "print(\"The odd sum is : \", s)\n",
    "print(\"The even product is : \", p)\n",
    "        \n",
    "    "
   ]
  },
  {
   "cell_type": "markdown",
   "id": "elegant-pipeline",
   "metadata": {},
   "source": [
    "Exercice 2"
   ]
  },
  {
   "cell_type": "code",
   "execution_count": 138,
   "id": "professional-disability",
   "metadata": {},
   "outputs": [
    {
     "name": "stdout",
     "output_type": "stream",
     "text": [
      "Give me a numnber of day: 6\n",
      "Today is Sunday\n"
     ]
    }
   ],
   "source": [
    "#print(\"Pls, give a number : \")\n",
    "a=int(input('Give me a numnber of day: '))\n",
    "if a==0:\n",
    "    print(\"Today is Monday\")\n",
    "elif a==1 :\n",
    "    print(\"Today is Tuesday\")\n",
    "elif a==2 :\n",
    "    print(\"Today is Wednesday\")\n",
    "elif a==3 :\n",
    "    print(\"Today is Thrusday\")\n",
    "elif a==4:\n",
    "    print(\"Today is Friday\")\n",
    "elif a==5 :\n",
    "    print(\"Today is Saturday\")\n",
    "elif a==6 :\n",
    "    print(\"Today is Sunday\")\n",
    "else :\n",
    "    print(\"Weekend\")"
   ]
  },
  {
   "cell_type": "markdown",
   "id": "respective-willow",
   "metadata": {},
   "source": [
    "Exercice 3"
   ]
  },
  {
   "cell_type": "code",
   "execution_count": 139,
   "id": "powerful-document",
   "metadata": {},
   "outputs": [
    {
     "name": "stdout",
     "output_type": "stream",
     "text": [
      "PLz, give the number of a month : 2\n",
      "This month contain 31 days\n"
     ]
    }
   ],
   "source": [
    "n=int(input(\"PLz, give the number of a month : \"))\n",
    "if n==0 or n==2 or n==4 or n==6 or n==7 or n==9 or n==11 :\n",
    "    print(\"This month contain 31 days\")\n",
    "elif n==3 or n==5 or n==8 or n==10 :\n",
    "    print(\"THis month contain 30 days\")\n",
    "elif n==1 :\n",
    "    print(\"This month have 28 days\")\n",
    "else :\n",
    "    print(\"Not available\")"
   ]
  },
  {
   "cell_type": "code",
   "execution_count": 140,
   "id": "sound-radar",
   "metadata": {},
   "outputs": [
    {
     "name": "stdout",
     "output_type": "stream",
     "text": [
      "PLz, give the number of a month : 1\n",
      "This month have 28 days\n"
     ]
    }
   ],
   "source": [
    "#ANother way\n",
    "c={0,2,4,6,7,9,11}\n",
    "n=int(input(\"PLz, give the number of a month : \"))\n",
    "if n in c:\n",
    "    print(\"This month contain 31 days\")\n",
    "elif n==3 or n==5 or n==8 or n==10 :\n",
    "    print(\"THis month contain 30 days\")\n",
    "elif n==1 :\n",
    "    print(\"This month have 28 days\")\n",
    "else :\n",
    "    print(\"Not available\")\n",
    "\n"
   ]
  },
  {
   "cell_type": "markdown",
   "id": "acquired-dayton",
   "metadata": {},
   "source": [
    "Exercice 4 "
   ]
  },
  {
   "cell_type": "code",
   "execution_count": 141,
   "id": "continuing-clothing",
   "metadata": {},
   "outputs": [
    {
     "name": "stdout",
     "output_type": "stream",
     "text": [
      "Agbatan Fiacre Luc KOUDERIN\n",
      "Agbatan Fiacre Luc KOUDERIN\n",
      "Agbatan Fiacre Luc KOUDERIN\n"
     ]
    }
   ],
   "source": [
    "# For loop version\n",
    "for i in range (3) :\n",
    "    print(\"Agbatan Fiacre Luc KOUDERIN\")"
   ]
  },
  {
   "cell_type": "code",
   "execution_count": 142,
   "id": "isolated-entrepreneur",
   "metadata": {},
   "outputs": [
    {
     "name": "stdout",
     "output_type": "stream",
     "text": [
      "Agbtan Fiacre Luc KOUDERIN\n",
      "Agbtan Fiacre Luc KOUDERIN\n",
      "Agbtan Fiacre Luc KOUDERIN\n"
     ]
    }
   ],
   "source": [
    "# while loop\n",
    "i=0\n",
    "while i <3 :\n",
    "    print(\"Agbtan Fiacre Luc KOUDERIN\")\n",
    "    i=i+1"
   ]
  },
  {
   "cell_type": "markdown",
   "id": "liable-greene",
   "metadata": {},
   "source": [
    "Exercice 5 : Fibonnaci"
   ]
  },
  {
   "cell_type": "code",
   "execution_count": 143,
   "id": "flying-infrastructure",
   "metadata": {},
   "outputs": [
    {
     "name": "stdout",
     "output_type": "stream",
     "text": [
      "Plz, enter the first number x0 : 1\n",
      "Plz, enter the second number x1 : 2\n",
      "1\n",
      "2\n",
      "3\n",
      "5\n",
      "8\n",
      "13\n",
      "21\n",
      "34\n",
      "55\n",
      "89\n",
      "144\n",
      "233\n",
      "377\n",
      "610\n",
      "987\n"
     ]
    }
   ],
   "source": [
    "x=int(input(\"Plz, enter the first number x0 : \"))\n",
    "y=int(input(\"Plz, enter the second number x1 : \"))\n",
    "z=x+y\n",
    "print(x)\n",
    "print(y)\n",
    "print(z)\n",
    "n=0\n",
    "while n < 12 :\n",
    "    x=y\n",
    "    y=z\n",
    "    z=x+y\n",
    "    print(z)\n",
    "    n=n+1\n"
   ]
  },
  {
   "cell_type": "markdown",
   "id": "heavy-gallery",
   "metadata": {},
   "source": [
    "Exercice 6 "
   ]
  },
  {
   "cell_type": "code",
   "execution_count": 144,
   "id": "documentary-minority",
   "metadata": {},
   "outputs": [
    {
     "name": "stdout",
     "output_type": "stream",
     "text": [
      "Plz, enter the first number a0 : 1\n",
      "Plz, enter the second number a1 : 3\n",
      "1\n",
      "3\n",
      "4.5\n",
      "11.25\n",
      "19.125\n",
      "43.3125\n",
      "79.03125\n",
      "169.453125\n",
      "321.8203125\n",
      "669.26953125\n",
      "1300.095703125\n",
      "2657.8564453125\n",
      "5229.21533203125\n",
      "10588.177001953125\n",
      "20981.734497070312\n",
      "42255.39825439453\n",
      "84072.9026184082\n",
      "168802.6460723877\n",
      "336620.03089141846\n",
      "674717.9536628723\n",
      "1347219.0695056915\n",
      "2697763.3957414627\n",
      "5390538.906387806\n",
      "10788559.640418291\n",
      "21565896.539372563\n",
      "43148627.190941155\n",
      "86272003.21358827\n",
      "172581883.17961758\n",
      "345106951.2305736\n",
      "690299125.1541395\n",
      "1380470416.2687905\n"
     ]
    }
   ],
   "source": [
    "x=int(input(\"Plz, enter the first number a0 : \"))\n",
    "y=int(input(\"Plz, enter the second number a1 : \"))\n",
    "z=float((1/2)*(y+6*x))\n",
    "print(x)\n",
    "print(y)\n",
    "print(z)\n",
    "n=0\n",
    "while n < 28 :\n",
    "    x=y\n",
    "    y=z\n",
    "    z=float((1/2)*(y+6*x))\n",
    "    print(z)\n",
    "    n=n+1"
   ]
  },
  {
   "cell_type": "markdown",
   "id": "precious-locator",
   "metadata": {},
   "source": [
    "Exercice 7a"
   ]
  },
  {
   "cell_type": "code",
   "execution_count": 145,
   "id": "brilliant-presence",
   "metadata": {},
   "outputs": [
    {
     "name": "stdout",
     "output_type": "stream",
     "text": [
      "Please enter a year : 2001\n",
      "THIS is not a leap year\n"
     ]
    }
   ],
   "source": [
    "Y=int(input(\"Please enter a year : \"))\n",
    "if Y%100==0 & Y%400==0 :\n",
    "    print(\"This is a leap year\")\n",
    "elif Y%4==0 :\n",
    "    print (\"This is a leap yers\")\n",
    "else :\n",
    "    print(\"THIS is not a leap year\")"
   ]
  },
  {
   "cell_type": "code",
   "execution_count": 146,
   "id": "impossible-praise",
   "metadata": {},
   "outputs": [
    {
     "name": "stdout",
     "output_type": "stream",
     "text": [
      "Please enter a year : 2500\n",
      "no\n"
     ]
    }
   ],
   "source": [
    "Y=int(input(\"Please enter a year : \"))\n",
    "if Y%4==0 :\n",
    "    if Y%400==0 :\n",
    "        if Y%100==0 :\n",
    "            print(\"Leap Year\")\n",
    "        else :\n",
    "            print(\"NO\")\n",
    "    else :\n",
    "        print(\"no\")\n",
    "else :\n",
    "    print(\"NO\")"
   ]
  },
  {
   "cell_type": "markdown",
   "id": "reduced-floor",
   "metadata": {},
   "source": [
    "Exercice 7b"
   ]
  },
  {
   "cell_type": "code",
   "execution_count": 147,
   "id": "historic-example",
   "metadata": {},
   "outputs": [
    {
     "name": "stdout",
     "output_type": "stream",
     "text": [
      "Please enter a year : 1900\n",
      "Not a leap year\n"
     ]
    }
   ],
   "source": [
    "Y=int(input(\"Please enter a year : \"))\n",
    "print((Y% 400 == 0 or (Y % 4 == 0 and Y % 100 != 0)) and \"Leap year\" or \"Not a leap year\")\n"
   ]
  },
  {
   "cell_type": "markdown",
   "id": "tropical-universal",
   "metadata": {},
   "source": [
    "Exercice 8a"
   ]
  },
  {
   "cell_type": "code",
   "execution_count": 148,
   "id": "spectacular-addition",
   "metadata": {},
   "outputs": [
    {
     "name": "stdout",
     "output_type": "stream",
     "text": [
      "Give n : 124\n",
      "THe sum is :  643250\n"
     ]
    }
   ],
   "source": [
    "# While loop version\n",
    "n=int(input(\"Give n : \"))\n",
    "s=0\n",
    "i=1\n",
    "while i <=n :\n",
    "    s=s+i*i\n",
    "    i=i+1\n",
    "print(\"THe sum is : \", s)"
   ]
  },
  {
   "cell_type": "code",
   "execution_count": 149,
   "id": "broadband-monte",
   "metadata": {},
   "outputs": [
    {
     "name": "stdout",
     "output_type": "stream",
     "text": [
      "Give n : 6\n",
      "91\n"
     ]
    }
   ],
   "source": [
    "# For loop version \n",
    "n=int(input(\"Give n : \"))\n",
    "s=0\n",
    "for i in range (1,n+1) :\n",
    "    s=s+i*i\n",
    "print(s)"
   ]
  },
  {
   "cell_type": "markdown",
   "id": "comfortable-polyester",
   "metadata": {},
   "source": [
    "Exercice 8b"
   ]
  },
  {
   "cell_type": "code",
   "execution_count": 150,
   "id": "unlike-exposure",
   "metadata": {},
   "outputs": [
    {
     "name": "stdout",
     "output_type": "stream",
     "text": [
      "Pls, give M : 6\n",
      "The smallest n is :  3\n"
     ]
    }
   ],
   "source": [
    "#while loop version\n",
    "M=int(input(\"Pls, give M : \"))\n",
    "s=0\n",
    "i=0\n",
    "while s < M :\n",
    "    i=i+1\n",
    "    s=s+i*i\n",
    "print(\"The smallest n is : \", i)"
   ]
  },
  {
   "cell_type": "code",
   "execution_count": 151,
   "id": "continuous-termination",
   "metadata": {},
   "outputs": [
    {
     "name": "stdout",
     "output_type": "stream",
     "text": [
      "Pls, give M : 25\n",
      "The smallest n is  4\n"
     ]
    }
   ],
   "source": [
    "# for loop version\n",
    "M=int(input(\"Pls, give M : \"))\n",
    "s=0\n",
    "for i in range(1, n+1) :\n",
    "    s=s+i*i\n",
    "    if s >=M :\n",
    "        break\n",
    "print(\"The smallest n is \", i)"
   ]
  },
  {
   "cell_type": "markdown",
   "id": "comic-baker",
   "metadata": {},
   "source": [
    "Exercice 9a"
   ]
  },
  {
   "cell_type": "code",
   "execution_count": 152,
   "id": "female-salmon",
   "metadata": {
    "scrolled": true
   },
   "outputs": [
    {
     "name": "stdout",
     "output_type": "stream",
     "text": [
      "Give n : 21\n",
      "1\n",
      "3\n",
      "7\n",
      "21\n"
     ]
    }
   ],
   "source": [
    "n=int(input(\"Give n : \"))\n",
    "for  i in range(1, n+1) :\n",
    "    if n % i==0 :\n",
    "        print(i)"
   ]
  },
  {
   "cell_type": "markdown",
   "id": "welsh-culture",
   "metadata": {},
   "source": [
    "Exercice 9b"
   ]
  },
  {
   "cell_type": "code",
   "execution_count": 123,
   "id": "numerous-beatles",
   "metadata": {},
   "outputs": [],
   "source": [
    "#n=int(input(\"Give n : \"))\n",
    "#s=0\n",
    "#for  i in range(1, n+1) :\n",
    "#    if n % i==0 :\n",
    "#        s=s+i\n",
    "#print(\"This sum is  : \", s)"
   ]
  },
  {
   "cell_type": "markdown",
   "id": "steady-importance",
   "metadata": {},
   "source": [
    "Exercice 10"
   ]
  },
  {
   "cell_type": "code",
   "execution_count": 153,
   "id": "mounted-belize",
   "metadata": {},
   "outputs": [
    {
     "name": "stdout",
     "output_type": "stream",
     "text": [
      "Plz, give a number between 0 and 9 : 6\n",
      "GIve N : 12\n",
      "0 x 6 = 0\n",
      "1 x 6 = 6\n",
      "2 x 6 = 12\n",
      "3 x 6 = 18\n",
      "4 x 6 = 24\n",
      "5 x 6 = 30\n",
      "6 x 6 = 36\n",
      "7 x 6 = 42\n",
      "8 x 6 = 48\n",
      "9 x 6 = 54\n",
      "10 x 6 = 60\n",
      "11 x 6 = 66\n",
      "12 x 6 = 72\n"
     ]
    }
   ],
   "source": [
    "n=int(input(\"Plz, give a number between 0 and 9 : \"))\n",
    "N=int(input(\"GIve N : \"))\n",
    "i=0\n",
    "while i <=N :\n",
    "    print(\"{} x {} = {}\".format(i, n, i*n))\n",
    "    i=i+1"
   ]
  },
  {
   "cell_type": "markdown",
   "id": "owned-lodging",
   "metadata": {},
   "source": [
    "Exercice 11"
   ]
  },
  {
   "cell_type": "code",
   "execution_count": 154,
   "id": "loving-priest",
   "metadata": {
    "scrolled": true
   },
   "outputs": [
    {
     "name": "stdout",
     "output_type": "stream",
     "text": [
      "0\n",
      "3\n",
      "6\n",
      "7\n",
      "9\n",
      "11\n",
      "12\n",
      "14\n",
      "15\n",
      "18\n",
      "21\n",
      "22\n",
      "24\n",
      "27\n",
      "28\n",
      "30\n",
      "33\n",
      "35\n",
      "36\n",
      "39\n"
     ]
    }
   ],
   "source": [
    "for i in range(41) :\n",
    "    if i%3==0 or i%7==0 or i%11==0 :\n",
    "        print(i)"
   ]
  },
  {
   "cell_type": "markdown",
   "id": "stopped-cliff",
   "metadata": {},
   "source": [
    "Exercice 12"
   ]
  },
  {
   "cell_type": "code",
   "execution_count": 155,
   "id": "national-somalia",
   "metadata": {},
   "outputs": [
    {
     "name": "stdout",
     "output_type": "stream",
     "text": [
      "Plz, give a float number : 12.65\n",
      "THe floor of m is :  12\n"
     ]
    }
   ],
   "source": [
    "m=float(input(\"Plz, give a float number : \"))\n",
    "print(\"THe floor of m is : \", int(m))"
   ]
  },
  {
   "cell_type": "markdown",
   "id": "mental-texas",
   "metadata": {},
   "source": [
    "Exercice 13 "
   ]
  },
  {
   "cell_type": "code",
   "execution_count": 156,
   "id": "sealed-baseline",
   "metadata": {},
   "outputs": [
    {
     "name": "stdout",
     "output_type": "stream",
     "text": [
      "Enter x : 12\n",
      "ENter y : 36\n",
      "2nd quadrant\n",
      "Do you want to continue ? (o/n) : o\n",
      "Enter x : 14\n",
      "ENter y : 25\n",
      "2nd quadrant\n",
      "Do you want to continue ? (o/n) : n\n",
      "Bye.\n"
     ]
    }
   ],
   "source": [
    "while True:\n",
    "    x=float(input(\"Enter x : \"))\n",
    "    y=float(input(\"ENter y : \"))\n",
    "    if x<0 and y>0 :\n",
    "        print(\"1st quadrant\")\n",
    "    elif x>0 and y>0 :\n",
    "        print(\"2nd quadrant\")\n",
    "    elif  x>0 and y<0 :\n",
    "        print(\"3rd quadrant\")\n",
    "    elif x<0 and y<0 :\n",
    "        print(\"4th quadrant\")\n",
    "    elif x==0 and y==0 :\n",
    "        print(\"This is origin\")\n",
    "    else :\n",
    "        print(\"It's lies to an axis\")\n",
    "\n",
    "    \n",
    "    con = input(\"Do you want to continue ? (o/n) : \")\n",
    "    if con != 'o':  \n",
    "        print(\"Bye.\")\n",
    "        break\n"
   ]
  },
  {
   "cell_type": "markdown",
   "id": "quiet-cancer",
   "metadata": {},
   "source": [
    "Exercice 14"
   ]
  },
  {
   "cell_type": "code",
   "execution_count": 157,
   "id": "magnetic-devon",
   "metadata": {},
   "outputs": [],
   "source": [
    "#while True :\n",
    "#    while True :\n",
    " #       x= int(input(\"Give number between 0 and 9 : \"))\n",
    "  #      if x<=10 and x >=0 :\n",
    "   #         break\n",
    "    #    break"
   ]
  },
  {
   "cell_type": "code",
   "execution_count": null,
   "id": "meaning-potential",
   "metadata": {},
   "outputs": [],
   "source": []
  }
 ],
 "metadata": {
  "kernelspec": {
   "display_name": "Python 3",
   "language": "python",
   "name": "python3"
  },
  "language_info": {
   "codemirror_mode": {
    "name": "ipython",
    "version": 3
   },
   "file_extension": ".py",
   "mimetype": "text/x-python",
   "name": "python",
   "nbconvert_exporter": "python",
   "pygments_lexer": "ipython3",
   "version": "3.9.2"
  }
 },
 "nbformat": 4,
 "nbformat_minor": 5
}
