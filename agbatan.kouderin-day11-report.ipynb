{
 "cells": [
  {
   "cell_type": "markdown",
   "id": "946dcae8",
   "metadata": {},
   "source": [
    "# Practical_6: Numpy"
   ]
  },
  {
   "cell_type": "code",
   "execution_count": 1,
   "id": "united-knitting",
   "metadata": {},
   "outputs": [],
   "source": [
    "import numpy as np"
   ]
  },
  {
   "cell_type": "markdown",
   "id": "renewable-mattress",
   "metadata": {},
   "source": [
    "---\n",
    "\n",
    "### Exercise 1:\n",
    "Create a NumPy array of integers from 1 to 10.\n",
    "\n",
    "```python\n",
    "# Exercise 1\n",
    "```"
   ]
  },
  {
   "cell_type": "code",
   "execution_count": 6,
   "id": "pressed-labor",
   "metadata": {},
   "outputs": [
    {
     "name": "stdout",
     "output_type": "stream",
     "text": [
      "[ 1  2  3  4  5  6  7  8  9 10]\n"
     ]
    }
   ],
   "source": [
    "integers=np.arange(1,11)\n",
    "print(integers)"
   ]
  },
  {
   "cell_type": "markdown",
   "id": "fatal-degree",
   "metadata": {},
   "source": [
    "---\n",
    "\n",
    "### Exercise 2:\n",
    "Create a 3x3 NumPy array filled with zeros.\n",
    "\n",
    "```python\n",
    "# Exercise 2\n",
    "```"
   ]
  },
  {
   "cell_type": "code",
   "execution_count": 9,
   "id": "loving-basis",
   "metadata": {},
   "outputs": [
    {
     "name": "stdout",
     "output_type": "stream",
     "text": [
      "[[0. 0. 0.]\n",
      " [0. 0. 0.]\n",
      " [0. 0. 0.]]\n"
     ]
    }
   ],
   "source": [
    "zeros=np.zeros([3,3])\n",
    "print(zeros)"
   ]
  },
  {
   "cell_type": "markdown",
   "id": "literary-worthy",
   "metadata": {},
   "source": [
    "---\n",
    "\n",
    "### Exercise 3:\n",
    "Create a NumPy array of 10 evenly spaced numbers between 0 and 5.\n",
    "\n",
    "```python\n",
    "# Exercise 3\n",
    "```"
   ]
  },
  {
   "cell_type": "code",
   "execution_count": 15,
   "id": "strange-valuation",
   "metadata": {},
   "outputs": [
    {
     "data": {
      "text/plain": [
       "array([0.        , 0.55555556, 1.11111111, 1.66666667, 2.22222222,\n",
       "       2.77777778, 3.33333333, 3.88888889, 4.44444444, 5.        ])"
      ]
     },
     "execution_count": 15,
     "metadata": {},
     "output_type": "execute_result"
    }
   ],
   "source": [
    "exo3=np.linspace(0,5,10)\n",
    "exo3"
   ]
  },
  {
   "cell_type": "code",
   "execution_count": 19,
   "id": "thorough-mattress",
   "metadata": {},
   "outputs": [
    {
     "name": "stdout",
     "output_type": "stream",
     "text": [
      "0.5555555555555556\n",
      "0.5555555555555556\n",
      "0.5555555555555556\n",
      "0.5555555555555556\n",
      "0.5555555555555554\n",
      "0.5555555555555558\n",
      "0.5555555555555558\n",
      "0.5555555555555554\n",
      "0.5555555555555554\n"
     ]
    }
   ],
   "source": [
    "#check to see if it's ok\n",
    "for i in range(len(exo3)-1) :\n",
    "    print(exo3[i+1]-exo3[i])"
   ]
  },
  {
   "cell_type": "markdown",
   "id": "preceding-pillow",
   "metadata": {},
   "source": [
    "---\n",
    "\n",
    "### Exercise 4:\n",
    "Create a 5x5 identity matrix using NumPy.\n",
    "\n",
    "```python\n",
    "# Exercise 4\n",
    "```"
   ]
  },
  {
   "cell_type": "code",
   "execution_count": 37,
   "id": "welsh-comfort",
   "metadata": {},
   "outputs": [
    {
     "data": {
      "text/plain": [
       "array([[1., 0., 0., 0., 0.],\n",
       "       [0., 1., 0., 0., 0.],\n",
       "       [0., 0., 1., 0., 0.],\n",
       "       [0., 0., 0., 1., 0.],\n",
       "       [0., 0., 0., 0., 1.]])"
      ]
     },
     "execution_count": 37,
     "metadata": {},
     "output_type": "execute_result"
    }
   ],
   "source": [
    "exo4=np.eye(5)\n",
    "exo4"
   ]
  },
  {
   "cell_type": "markdown",
   "id": "handmade-print",
   "metadata": {},
   "source": [
    "---\n",
    "\n",
    "### Exercise 5:\n",
    "Create a 4x4 matrix with random values between 0 and 1.\n",
    "\n",
    "```python\n",
    "# Exercise 5\n",
    "```"
   ]
  },
  {
   "cell_type": "code",
   "execution_count": 25,
   "id": "official-facing",
   "metadata": {},
   "outputs": [
    {
     "data": {
      "text/plain": [
       "array([[0.90566686, 0.76042644, 0.06265497, 0.72396305],\n",
       "       [0.33133947, 0.5035343 , 0.04724431, 0.60118879],\n",
       "       [0.26306146, 0.82066446, 0.24404195, 0.3023824 ],\n",
       "       [0.22211944, 0.1825483 , 0.04357409, 0.17191778]])"
      ]
     },
     "execution_count": 25,
     "metadata": {},
     "output_type": "execute_result"
    }
   ],
   "source": [
    "exo5=np.random.random([4,4])\n",
    "exo5"
   ]
  },
  {
   "cell_type": "markdown",
   "id": "cardiovascular-bahrain",
   "metadata": {},
   "source": [
    "---\n",
    "\n",
    "### Exercise 6:\n",
    "Find the shape of a NumPy array.\n",
    "\n",
    "```python\n",
    "# Exercise 6\n",
    "```"
   ]
  },
  {
   "cell_type": "code",
   "execution_count": 27,
   "id": "atmospheric-clerk",
   "metadata": {},
   "outputs": [
    {
     "name": "stdout",
     "output_type": "stream",
     "text": [
      "(2, 3)\n"
     ]
    }
   ],
   "source": [
    "#create the array\n",
    "exo6=np.array([[4,5,6],[6,8,9]], int)\n",
    "#check the shape\n",
    "print(exo6.shape)"
   ]
  },
  {
   "cell_type": "markdown",
   "id": "historic-allowance",
   "metadata": {},
   "source": [
    "---\n",
    "\n",
    "### Exercise 7:\n",
    "Reshape a 1D NumPy array of 16 elements into a 4x4 matrix.\n",
    "\n",
    "```python\n",
    "# Exercise 7\n",
    "```"
   ]
  },
  {
   "cell_type": "code",
   "execution_count": 31,
   "id": "increasing-addiction",
   "metadata": {},
   "outputs": [
    {
     "name": "stdout",
     "output_type": "stream",
     "text": [
      "[[ 0  1  2  3]\n",
      " [ 4  5  6  7]\n",
      " [ 8  9 10 11]\n",
      " [12 13 14 15]]\n"
     ]
    }
   ],
   "source": [
    "#previous array\n",
    "p=np.arange(16)\n",
    "p.shape=(4,4)\n",
    "print(p)"
   ]
  },
  {
   "cell_type": "markdown",
   "id": "oriented-rates",
   "metadata": {},
   "source": [
    "---\n",
    "\n",
    "### Exercise 8:\n",
    "Find the data type of the elements in a NumPy array.\n",
    "\n",
    "```python\n",
    "# Exercise 8\n",
    "```"
   ]
  },
  {
   "cell_type": "code",
   "execution_count": 38,
   "id": "tutorial-archive",
   "metadata": {},
   "outputs": [
    {
     "name": "stdout",
     "output_type": "stream",
     "text": [
      "float64\n"
     ]
    }
   ],
   "source": [
    "#create the array\n",
    "exo8=np.random.random([6,8])\n",
    "print(exo8.dtype)"
   ]
  },
  {
   "cell_type": "markdown",
   "id": "southeast-throw",
   "metadata": {},
   "source": [
    "---\n",
    "\n",
    "### Exercise 9:\n",
    "Create a NumPy array of integers from 1 to 100 and find all even numbers in the array.\n",
    "\n",
    "```python\n",
    "# Exercise 9\n",
    "```"
   ]
  },
  {
   "cell_type": "code",
   "execution_count": 39,
   "id": "useful-evolution",
   "metadata": {},
   "outputs": [
    {
     "name": "stdout",
     "output_type": "stream",
     "text": [
      "[ 2  4  6  8 10 12 14 16 18 20 22 24 26 28 30 32 34 36 38 40 42 44 46 48\n",
      " 50 52 54 56 58 60 62 64 66 68 70 72 74 76 78 80 82 84 86 88 90 92 94 96\n",
      " 98]\n"
     ]
    }
   ],
   "source": [
    "ar=np.arange(1,100)\n",
    "print(ar[ar%2==0])"
   ]
  },
  {
   "cell_type": "markdown",
   "id": "advised-grocery",
   "metadata": {},
   "source": [
    "---\n",
    "\n",
    "### Exercise 10:\n",
    "Generate a 6x6 matrix of random integers between 10 and 50.\n",
    "\n",
    "```python\n",
    "# Exercise 10\n",
    "```"
   ]
  },
  {
   "cell_type": "code",
   "execution_count": 45,
   "id": "scheduled-creature",
   "metadata": {},
   "outputs": [
    {
     "name": "stdout",
     "output_type": "stream",
     "text": [
      "Help on built-in function randint:\n",
      "\n",
      "randint(...) method of numpy.random.mtrand.RandomState instance\n",
      "    randint(low, high=None, size=None, dtype=int)\n",
      "    \n",
      "    Return random integers from `low` (inclusive) to `high` (exclusive).\n",
      "    \n",
      "    Return random integers from the \"discrete uniform\" distribution of\n",
      "    the specified dtype in the \"half-open\" interval [`low`, `high`). If\n",
      "    `high` is None (the default), then results are from [0, `low`).\n",
      "    \n",
      "    .. note::\n",
      "        New code should use the ``integers`` method of a ``default_rng()``\n",
      "        instance instead; please see the :ref:`random-quick-start`.\n",
      "    \n",
      "    Parameters\n",
      "    ----------\n",
      "    low : int or array-like of ints\n",
      "        Lowest (signed) integers to be drawn from the distribution (unless\n",
      "        ``high=None``, in which case this parameter is one above the\n",
      "        *highest* such integer).\n",
      "    high : int or array-like of ints, optional\n",
      "        If provided, one above the largest (signed) integer to be drawn\n",
      "        from the distribution (see above for behavior if ``high=None``).\n",
      "        If array-like, must contain integer values\n",
      "    size : int or tuple of ints, optional\n",
      "        Output shape.  If the given shape is, e.g., ``(m, n, k)``, then\n",
      "        ``m * n * k`` samples are drawn.  Default is None, in which case a\n",
      "        single value is returned.\n",
      "    dtype : dtype, optional\n",
      "        Desired dtype of the result. Byteorder must be native.\n",
      "        The default value is int.\n",
      "    \n",
      "        .. versionadded:: 1.11.0\n",
      "    \n",
      "    Returns\n",
      "    -------\n",
      "    out : int or ndarray of ints\n",
      "        `size`-shaped array of random integers from the appropriate\n",
      "        distribution, or a single such random int if `size` not provided.\n",
      "    \n",
      "    See Also\n",
      "    --------\n",
      "    random_integers : similar to `randint`, only for the closed\n",
      "        interval [`low`, `high`], and 1 is the lowest value if `high` is\n",
      "        omitted.\n",
      "    Generator.integers: which should be used for new code.\n",
      "    \n",
      "    Examples\n",
      "    --------\n",
      "    >>> np.random.randint(2, size=10)\n",
      "    array([1, 0, 0, 0, 1, 1, 0, 0, 1, 0]) # random\n",
      "    >>> np.random.randint(1, size=10)\n",
      "    array([0, 0, 0, 0, 0, 0, 0, 0, 0, 0])\n",
      "    \n",
      "    Generate a 2 x 4 array of ints between 0 and 4, inclusive:\n",
      "    \n",
      "    >>> np.random.randint(5, size=(2, 4))\n",
      "    array([[4, 0, 2, 1], # random\n",
      "           [3, 2, 2, 0]])\n",
      "    \n",
      "    Generate a 1 x 3 array with 3 different upper bounds\n",
      "    \n",
      "    >>> np.random.randint(1, [3, 5, 10])\n",
      "    array([2, 2, 9]) # random\n",
      "    \n",
      "    Generate a 1 by 3 array with 3 different lower bounds\n",
      "    \n",
      "    >>> np.random.randint([1, 5, 7], 10)\n",
      "    array([9, 8, 7]) # random\n",
      "    \n",
      "    Generate a 2 by 4 array using broadcasting with dtype of uint8\n",
      "    \n",
      "    >>> np.random.randint([1, 3, 5, 7], [[10], [20]], dtype=np.uint8)\n",
      "    array([[ 8,  6,  9,  7], # random\n",
      "           [ 1, 16,  9, 12]], dtype=uint8)\n",
      "\n"
     ]
    }
   ],
   "source": [
    "help(np.random.randint)"
   ]
  },
  {
   "cell_type": "code",
   "execution_count": 154,
   "id": "together-pilot",
   "metadata": {},
   "outputs": [
    {
     "data": {
      "text/plain": [
       "array([[39, 26, 30, 28, 24, 25],\n",
       "       [27, 35, 27, 42, 27, 26],\n",
       "       [36, 22, 40, 27, 27, 26],\n",
       "       [10, 41, 47, 19, 10, 48],\n",
       "       [32, 42, 12, 13, 41, 45],\n",
       "       [37, 28, 23, 39, 21, 32]])"
      ]
     },
     "execution_count": 154,
     "metadata": {},
     "output_type": "execute_result"
    }
   ],
   "source": [
    "exo6=np.random.randint(10,50, size=(6,6))\n",
    "exo6"
   ]
  },
  {
   "cell_type": "markdown",
   "id": "roman-sleep",
   "metadata": {},
   "source": [
    "---\n",
    "\n",
    "### Exercise 11:\n",
    "Slice a 2D NumPy array to extract a submatrix.\n",
    "\n",
    "```python\n",
    "# Exercise 11\n",
    "```"
   ]
  },
  {
   "cell_type": "code",
   "execution_count": 67,
   "id": "massive-characteristic",
   "metadata": {},
   "outputs": [
    {
     "name": "stdout",
     "output_type": "stream",
     "text": [
      "[[ 4 13  2  8  9]\n",
      " [ 3  7 10  8  7]\n",
      " [ 4  5  2 10  3]\n",
      " [ 3 14  8 11  8]]\n",
      " submatrix is : \n",
      " [[ 2  8  9]\n",
      " [10  8  7]\n",
      " [ 2 10  3]]\n"
     ]
    }
   ],
   "source": [
    "exo11=np.random.randint(15, size=(4,5))\n",
    "print(exo11)\n",
    "print(' submatrix is : \\n', exo11[:3,2:5])"
   ]
  },
  {
   "cell_type": "markdown",
   "id": "nuclear-election",
   "metadata": {},
   "source": [
    "---\n",
    "\n",
    "### Exercise 12:\n",
    "Calculate the sum of all elements in a NumPy array.\n",
    "\n",
    "```python\n",
    "# Exercise 12\n",
    "```"
   ]
  },
  {
   "cell_type": "code",
   "execution_count": 78,
   "id": "minimal-range",
   "metadata": {},
   "outputs": [
    {
     "data": {
      "text/plain": [
       "7853"
      ]
     },
     "execution_count": 78,
     "metadata": {},
     "output_type": "execute_result"
    }
   ],
   "source": [
    "\n",
    "array=np.random.randint(1,100, 156)\n",
    "s=sum(array)\n",
    "s"
   ]
  },
  {
   "cell_type": "code",
   "execution_count": 91,
   "id": "conservative-messenger",
   "metadata": {},
   "outputs": [],
   "source": [
    "#help(np.sum)"
   ]
  },
  {
   "cell_type": "code",
   "execution_count": 196,
   "id": "republican-scheme",
   "metadata": {},
   "outputs": [
    {
     "name": "stdout",
     "output_type": "stream",
     "text": [
      "The total sum is :  898\n"
     ]
    }
   ],
   "source": [
    "\n",
    "#sum total\n",
    "sum_total=np.sum(array)\n",
    "print('The total sum is : ', sum_total)"
   ]
  },
  {
   "cell_type": "markdown",
   "id": "extreme-jamaica",
   "metadata": {},
   "source": [
    "---\n",
    "\n",
    "### Exercise 13:\n",
    "Calculate the mean, median, and standard deviation of a NumPy array.\n",
    "\n",
    "```python\n",
    "# Exercise 13\n",
    "```"
   ]
  },
  {
   "cell_type": "code",
   "execution_count": 104,
   "id": "alleged-substance",
   "metadata": {},
   "outputs": [
    {
     "name": "stdout",
     "output_type": "stream",
     "text": [
      "the array is : \n",
      " [[ 22   2  41  45   9 135]\n",
      " [109  42 107  75  55 109]\n",
      " [ 47  51  92  27  90  77]\n",
      " [ 26 138 141   1  29 103]\n",
      " [ 88  31  37 147  70 138]]\n",
      "For each column, the mean is [ 58.4  52.8  83.6  59.   50.6 112.4], the median [ 47.  42.  92.  45.  55. 109.] and the standard deviation is [34.47085726 45.68325733 39.74720116 50.1677187  28.79305472 22.44638055] : \n",
      "\n",
      " For each row, the mean is [42.33333333 82.83333333 64.         73.         85.16666667], the median [31.5 91.  64.  66.  79. ] and the standard deviation is [44.24803825 27.25445937 24.         56.38853311 44.9199906 ] : \n"
     ]
    }
   ],
   "source": [
    "#two dimensions\n",
    "array=np.random.randint(150, size=(5,6))\n",
    "print('the array is : \\n', array)\n",
    "#mean, median and sd of the colums\n",
    "mean_column=np.mean(array, axis=0)\n",
    "median_column=np.median(array, axis=0)\n",
    "sd_column=np.std(array, axis=0)\n",
    "print('For each column, the mean is {}, the median {} and the standard deviation is {} : '.format(mean_column, median_column,sd_column))\n",
    "#mean, median and sd of the row\n",
    "mean_row=np.mean(array, axis=1)\n",
    "median_row=np.median(array, axis=1)\n",
    "sd_row=np.std(array, axis=1)\n",
    "#print(' '.format(mean_row, median_row, sd_row)\n",
    "print('\\n For each row, the mean is {}, the median {} and the standard deviation is {} : '.format(mean_row, median_row, sd_row))"
   ]
  },
  {
   "cell_type": "markdown",
   "id": "thirty-field",
   "metadata": {},
   "source": [
    "---\n",
    "\n",
    "### Exercise 14:\n",
    "Find the maximum and minimum values in a NumPy array.\n",
    "\n",
    "```python\n",
    "# Exercise 14\n",
    "```"
   ]
  },
  {
   "cell_type": "code",
   "execution_count": 106,
   "id": "correct-graham",
   "metadata": {},
   "outputs": [
    {
     "name": "stdout",
     "output_type": "stream",
     "text": [
      "the array is : \n",
      " [[ 90  21 133  62 101  84]\n",
      " [ 97 111  21  72  24 126]\n",
      " [ 34  34 141 127  97  72]\n",
      " [104 105 142 128  15 119]\n",
      " [ 66 140  92  75   5   6]]\n",
      "For each column, the min is [34 21 21 62  5  6], the max is [104 140 142 128 101 126]  : \n",
      "\n",
      " For each row, the min is [21 21 34 15  5], the max [133 126 141 142 140] : \n",
      "The min of the total array is 5 and the maximum is 142 \n"
     ]
    }
   ],
   "source": [
    "#two dimensions\n",
    "array=np.random.randint(150, size=(5,6))\n",
    "print('the array is : \\n', array)\n",
    "#min, max and sd of the colums\n",
    "min_column=np.min(array, axis=0)\n",
    "max_column=np.max(array, axis=0)\n",
    "print('For each column, the min is {}, the max is {}  : '.format(min_column, max_column))\n",
    "#min, max and sd of the row\n",
    "min_row=np.min(array, axis=1)\n",
    "max_row=np.max(array, axis=1)\n",
    "#print(' '.format(min_row, max_row, sd_row)\n",
    "print('\\n For each row, the min is {}, the max {} : '.format(min_row, max_row))\n",
    "min_total=np.min(array)\n",
    "max_total=np.max(array)\n",
    "print('The min of the total array is {} and the maximum is {} '.format(min_total, max_total))"
   ]
  },
  {
   "cell_type": "markdown",
   "id": "careful-carrier",
   "metadata": {},
   "source": [
    "---\n",
    "\n",
    "### Exercise 15:\n",
    "Create a NumPy array of 20 random integers and find the index of the maximum value.\n",
    "\n",
    "```python\n",
    "# Exercise 15\n",
    "```"
   ]
  },
  {
   "cell_type": "code",
   "execution_count": 121,
   "id": "desirable-greenhouse",
   "metadata": {},
   "outputs": [
    {
     "name": "stdout",
     "output_type": "stream",
     "text": [
      "[ 9 15 64 28 89 93 29  8 73  0 40 36 16 11 54 88 62 33 72 78]\n",
      "The index of the maximum value is :  5\n"
     ]
    }
   ],
   "source": [
    "np.random.seed(10)\n",
    "array=np.random.randint(100,size=20)\n",
    "print(array)\n",
    "index=np.argmax(array)\n",
    "print('The index of the maximum value is : ', index)"
   ]
  },
  {
   "cell_type": "markdown",
   "id": "close-suspect",
   "metadata": {},
   "source": [
    "---\n",
    "\n",
    "### Exercise 16:\n",
    "Create a NumPy array and reverse its elements.\n",
    "\n",
    "```python\n",
    "# Exercise 16\n",
    "```"
   ]
  },
  {
   "cell_type": "code",
   "execution_count": 124,
   "id": "formed-blank",
   "metadata": {},
   "outputs": [
    {
     "name": "stdout",
     "output_type": "stream",
     "text": [
      "[ 9 15 64 28 89 93 29  8 73  0 40 36 16 11 54 88 62 33 72 78]\n",
      "[78 72 33 62 88 54 11 16 36 40  0 73  8 29 93 89 28 64 15  9]\n"
     ]
    }
   ],
   "source": [
    "np.random.seed(10)\n",
    "array=np.random.randint(100,size=20)\n",
    "print(array)\n",
    "reverse_array=np.flip(array)\n",
    "print(reverse_array)"
   ]
  },
  {
   "cell_type": "markdown",
   "id": "irish-spokesman",
   "metadata": {},
   "source": [
    "---\n",
    "\n",
    "### Exercise 17:\n",
    "Create a 3x3 matrix and multiply it element-wise by another 3x3 matrix.\n",
    "\n",
    "```python\n",
    "# Exercise 17\n",
    "```"
   ]
  },
  {
   "cell_type": "code",
   "execution_count": 132,
   "id": "residential-design",
   "metadata": {},
   "outputs": [
    {
     "name": "stdout",
     "output_type": "stream",
     "text": [
      "matrix1 : \n",
      " [[ 9 13  4]\n",
      " [ 0  1 11]\n",
      " [12  9 13]]\n",
      "matrix2 : \n",
      "  [[ 0 13  1]\n",
      " [10  8  9]\n",
      " [ 0 10  8]]\n",
      "matrix1 x matrix2 = : \n",
      "  [[  0 169   4]\n",
      " [  0   8  99]\n",
      " [  0  90 104]]\n"
     ]
    }
   ],
   "source": [
    "np.random.seed(10)\n",
    "matrix1=np.random.randint(14, size=(3,3))\n",
    "matrix2=np.random.randint(14, size=(3,3))\n",
    "print('matrix1 : \\n', matrix1)\n",
    "print('matrix2 : \\n ', matrix2)\n",
    "print('matrix1 x matrix2 = : \\n ',matrix1*matrix2)"
   ]
  },
  {
   "cell_type": "markdown",
   "id": "resident-anthony",
   "metadata": {},
   "source": [
    "---\n",
    "\n",
    "### Exercise 18:\n",
    "Create a diagonal matrix from a given 1D array.\n",
    "\n",
    "```python\n",
    "# Exercise 18\n",
    "```"
   ]
  },
  {
   "cell_type": "code",
   "execution_count": 136,
   "id": "damaged-possible",
   "metadata": {},
   "outputs": [
    {
     "name": "stdout",
     "output_type": "stream",
     "text": [
      "GIven matrix :  [6 5 3 9 6]\n",
      "Diag Matrix : \n",
      " [[6 0 0 0 0]\n",
      " [0 5 0 0 0]\n",
      " [0 0 3 0 0]\n",
      " [0 0 0 9 0]\n",
      " [0 0 0 0 6]]\n"
     ]
    }
   ],
   "source": [
    "Given_matrix=np.random.randint(12, size=5)\n",
    "diag_matrix=np.diag(Given_matrix)\n",
    "print('GIven matrix : ', Given_matrix)\n",
    "print('Diag Matrix : \\n', diag_matrix)\n"
   ]
  },
  {
   "cell_type": "markdown",
   "id": "studied-launch",
   "metadata": {},
   "source": [
    "---\n",
    "\n",
    "### Exercise 19:\n",
    "Perform matrix multiplication on two 2D NumPy arrays.\n",
    "\n",
    "```python\n",
    "# Exercise 19\n",
    "```"
   ]
  },
  {
   "cell_type": "code",
   "execution_count": 140,
   "id": "identical-boxing",
   "metadata": {},
   "outputs": [
    {
     "name": "stdout",
     "output_type": "stream",
     "text": [
      "m1 : \n",
      " [[ 9 13  4]\n",
      " [ 0  1 11]\n",
      " [12  9 13]]\n",
      "m2 : \n",
      " [[ 0 13  1]\n",
      " [10  8  9]\n",
      " [ 0 10  8]]\n",
      "m1 * m2 = : \n",
      "  [[130 261 158]\n",
      " [ 10 118  97]\n",
      " [ 90 358 197]]\n"
     ]
    }
   ],
   "source": [
    "np.random.seed(10)\n",
    "matrix1=np.random.randint(14, size=(3,3))\n",
    "matrix2=np.random.randint(14, size=(3,3))\n",
    "print('m1 : \\n', matrix1)\n",
    "print('m2 : \\n', matrix2)\n",
    "print('m1 * m2 = : \\n ', np.dot(matrix1, matrix2))"
   ]
  },
  {
   "cell_type": "markdown",
   "id": "viral-eclipse",
   "metadata": {},
   "source": [
    "---\n",
    "\n",
    "### Exercise 20:\n",
    "Flatten a 2D NumPy array into a 1D array.\n",
    "\n",
    "```python\n",
    "# Exercise 20\n",
    "```"
   ]
  },
  {
   "cell_type": "code",
   "execution_count": 150,
   "id": "conceptual-reservation",
   "metadata": {},
   "outputs": [
    {
     "name": "stdout",
     "output_type": "stream",
     "text": [
      "m 2D : \n",
      "  [[ 9 13  4]\n",
      " [ 0  1 11]\n",
      " [12  9 13]]\n",
      "n 1D : \n",
      "  [ 9 13  4  0  1 11 12  9 13]\n"
     ]
    }
   ],
   "source": [
    "np.random.seed(10)\n",
    "m=np.random.randint(14, size=(3,3))\n",
    "print('m 2D : \\n ', m)\n",
    "n=np.concatenate(m)\n",
    "print('n 1D : \\n ', n)"
   ]
  },
  {
   "cell_type": "markdown",
   "id": "twelve-sequence",
   "metadata": {},
   "source": [
    "---\n",
    "\n",
    "### Exercise 21:\n",
    "Stack two NumPy arrays vertically.\n",
    "\n",
    "```python\n",
    "# Exercise 21\n",
    "```"
   ]
  },
  {
   "cell_type": "code",
   "execution_count": 164,
   "id": "located-precipitation",
   "metadata": {},
   "outputs": [
    {
     "name": "stdout",
     "output_type": "stream",
     "text": [
      "Fisrt :  [2 9 5 1 0 2 3 1 4 2 0 2 8 8 8]\n",
      "Second :  [6 5 8 8 8 0 6 1 2 8 3 9 8 6 7]\n",
      "Final:  [[2 9 5 1 0 2 3 1 4 2 0 2 8 8 8]\n",
      " [6 5 8 8 8 0 6 1 2 8 3 9 8 6 7]]\n"
     ]
    }
   ],
   "source": [
    "ar1=np.random.randint(10, size=15)\n",
    "ar2=np.random.randint(10, size=15)\n",
    "Ver=np.vstack((ar1, ar2))\n",
    "print('Fisrt : ', ar1)\n",
    "print('Second : ', ar2)\n",
    "print('Final: ', Ver)"
   ]
  },
  {
   "cell_type": "markdown",
   "id": "turned-oriental",
   "metadata": {},
   "source": [
    "---\n",
    "\n",
    "### Exercise 22:\n",
    "Stack two NumPy arrays horizontally.\n",
    "\n",
    "```python\n",
    "# Exercise 22\n",
    "```"
   ]
  },
  {
   "cell_type": "code",
   "execution_count": 163,
   "id": "arranged-cornwall",
   "metadata": {},
   "outputs": [
    {
     "name": "stdout",
     "output_type": "stream",
     "text": [
      "Fisrt :  [7 1 7 1 2 9 2 7 4 6 7 3 2 3 9]\n",
      "Second :  [2 5 0 7 2 6 5 7 3 7 0 3 6 0 7]\n",
      "Final:  [7 1 7 1 2 9 2 7 4 6 7 3 2 3 9 2 5 0 7 2 6 5 7 3 7 0 3 6 0 7]\n"
     ]
    }
   ],
   "source": [
    "ar1=np.random.randint(10, size=15)\n",
    "ar2=np.random.randint(10, size=15)\n",
    "Ver=np.hstack((ar1, ar2))\n",
    "print('Fisrt : ', ar1)\n",
    "print('Second : ', ar2)\n",
    "print('Final: ', Ver)"
   ]
  },
  {
   "cell_type": "markdown",
   "id": "retired-replacement",
   "metadata": {},
   "source": [
    "---\n",
    "\n",
    "### Exercise 23:\n",
    "Split a NumPy array into multiple sub-arrays.\n",
    "\n",
    "```python\n",
    "# Exercise 23\n",
    "```"
   ]
  },
  {
   "cell_type": "code",
   "execution_count": 173,
   "id": "saving-evidence",
   "metadata": {},
   "outputs": [],
   "source": [
    "#help(np.split)"
   ]
  },
  {
   "cell_type": "code",
   "execution_count": 172,
   "id": "amateur-citizenship",
   "metadata": {},
   "outputs": [
    {
     "name": "stdout",
     "output_type": "stream",
     "text": [
      "First matrix : \n",
      " [[3 1 9 0 0 2]\n",
      " [4 2 9 9 7 1]\n",
      " [3 5 4 1 7 8]]\n",
      "Sub matrices : \n",
      " [array([[3, 1, 9, 0, 0, 2]]), array([[4, 2, 9, 9, 7, 1]]), array([[3, 5, 4, 1, 7, 8]])]\n"
     ]
    }
   ],
   "source": [
    "ar1=np.random.randint(10, size=(3,6))\n",
    "b=np.split(ar1, 3)\n",
    "print('First matrix : \\n', ar1)\n",
    "print('Sub matrices : \\n', b)"
   ]
  },
  {
   "cell_type": "markdown",
   "id": "norman-thailand",
   "metadata": {},
   "source": [
    "---\n",
    "\n",
    "### Exercise 24:\n",
    "Generate a random NumPy array and round each element to two decimal places.\n",
    "\n",
    "```python\n",
    "# Exercise 24\n",
    "```"
   ]
  },
  {
   "cell_type": "code",
   "execution_count": 182,
   "id": "exotic-shooting",
   "metadata": {},
   "outputs": [
    {
     "name": "stdout",
     "output_type": "stream",
     "text": [
      "Fisrt : \n",
      " [[0.2363534  0.08981164 0.19447817 0.61580788 0.93208368]\n",
      " [0.69108395 0.56284705 0.2637558  0.52714688 0.80438291]\n",
      " [0.29507589 0.18333855 0.01973246 0.74332123 0.0382934 ]\n",
      " [0.43367967 0.83208476 0.01345856 0.50933539 0.4795487 ]]\n",
      "ROunded : \n",
      "  [[0.24 0.09 0.19 0.62 0.93]\n",
      " [0.69 0.56 0.26 0.53 0.8 ]\n",
      " [0.3  0.18 0.02 0.74 0.04]\n",
      " [0.43 0.83 0.01 0.51 0.48]]\n"
     ]
    }
   ],
   "source": [
    "ar1=np.random.random([4,5])\n",
    "ar2 =np.round(ar1, 2)\n",
    "print('Fisrt : \\n', ar1)\n",
    "print('ROunded : \\n ', ar2)"
   ]
  },
  {
   "cell_type": "markdown",
   "id": "operating-nebraska",
   "metadata": {},
   "source": [
    "---\n",
    "\n",
    "### Exercise 25:\n",
    "Find the unique elements of a NumPy array.\n",
    "\n",
    "```python\n",
    "# Exercise 25\n",
    "```"
   ]
  },
  {
   "cell_type": "code",
   "execution_count": 184,
   "id": "dangerous-frost",
   "metadata": {},
   "outputs": [
    {
     "name": "stdout",
     "output_type": "stream",
     "text": [
      "Array : \n",
      "  [3 1 7 0 7 0 9 4 0 9 7 3 7 0 1]\n",
      "Unique elements : \n",
      "  [3 1 0 7 4 9]\n"
     ]
    }
   ],
   "source": [
    "ar1=np.random.randint(10, size=15)\n",
    "bb=ar1[np.unique(ar1)]\n",
    "print('Array : \\n ', ar1)\n",
    "print('Unique elements : \\n ', bb)"
   ]
  },
  {
   "cell_type": "markdown",
   "id": "stylish-dealer",
   "metadata": {},
   "source": [
    "---\n",
    "\n",
    "### Exercise 26:\n",
    "Replace all elements in a NumPy array that are less than a specific value with that value.\n",
    "\n",
    "```python\n",
    "# Exercise 26\n",
    "```"
   ]
  },
  {
   "cell_type": "code",
   "execution_count": 187,
   "id": "republican-rolling",
   "metadata": {},
   "outputs": [
    {
     "name": "stdout",
     "output_type": "stream",
     "text": [
      " First matrix : \n",
      " [81 48  9 28 34 76 73 35 85 71  9 29 12  5 72]\n",
      " Final matrix : \n",
      " [81 48 12 28 34 76 73 35 85 71 12 29 12 12 72]\n"
     ]
    }
   ],
   "source": [
    "ar1=np.random.randint(100, size=15)\n",
    "print(' First matrix : \\n', ar1)\n",
    "ar1[ar1< 12]=12\n",
    "print(' Final matrix : \\n', ar1)"
   ]
  },
  {
   "cell_type": "markdown",
   "id": "clean-kazakhstan",
   "metadata": {},
   "source": [
    "---\n",
    "\n",
    "### Exercise 27:\n",
    "Find the cumulative sum of the elements in a NumPy array.\n",
    "\n",
    "```python\n",
    "# Exercise 27\n",
    "```"
   ]
  },
  {
   "cell_type": "code",
   "execution_count": 190,
   "id": "golden-natural",
   "metadata": {},
   "outputs": [
    {
     "name": "stdout",
     "output_type": "stream",
     "text": [
      " First matrix : \n",
      " [2 3 0 3 5 3 5 7 8 9 5 9 6 7 6]\n",
      "Cumulative sum : \n",
      "  [ 2  5  5  8 13 16 21 28 36 45 50 59 65 72 78]\n"
     ]
    }
   ],
   "source": [
    "ar1=np.random.randint(10, size=15)\n",
    "print(' First matrix : \\n', ar1)\n",
    "b=np.cumsum(ar1)\n",
    "print('Cumulative sum : \\n ', b)"
   ]
  },
  {
   "cell_type": "markdown",
   "id": "armed-homework",
   "metadata": {},
   "source": [
    "---\n",
    "\n",
    "### Exercise 28:\n",
    "Create a NumPy array and find the number of non-zero elements in it.\n",
    "\n",
    "```python\n",
    "# Exercise 28\n",
    "```"
   ]
  },
  {
   "cell_type": "code",
   "execution_count": 194,
   "id": "according-mortgage",
   "metadata": {},
   "outputs": [
    {
     "name": "stdout",
     "output_type": "stream",
     "text": [
      " First matrix : \n",
      " [1 1 1 0 0 0 0 0 0 1 1 1 0 0 0]\n",
      "Number of non zeros elements :  6\n"
     ]
    }
   ],
   "source": [
    "ar1=np.random.randint(2, size=15)\n",
    "print(' First matrix : \\n', ar1)\n",
    "b=sum(ar1!=0)\n",
    "print('Number of non zeros elements : ', b)"
   ]
  },
  {
   "cell_type": "markdown",
   "id": "weird-computer",
   "metadata": {},
   "source": [
    "---\n",
    "\n",
    "### Exercise 29:\n",
    "Create a NumPy array of random integers and sort it in ascending order.\n",
    "\n",
    "```python\n",
    "# Exercise 29\n",
    "```"
   ]
  },
  {
   "cell_type": "code",
   "execution_count": 195,
   "id": "funny-movement",
   "metadata": {},
   "outputs": [
    {
     "name": "stdout",
     "output_type": "stream",
     "text": [
      " First matrix : \n",
      " [99 54 19  2 19 95 69 73 99 95  1 93 14 93 14]\n",
      "Sorted matrix : \n",
      " [ 1  2 14 14 19 19 54 69 73 93 93 95 95 99 99]\n"
     ]
    }
   ],
   "source": [
    "ar1=np.random.randint(100, size=15)\n",
    "print(' First matrix : \\n', ar1)\n",
    "b=np.sort(ar1)\n",
    "print('Sorted matrix : \\n', b)"
   ]
  },
  {
   "cell_type": "markdown",
   "id": "german-recording",
   "metadata": {},
   "source": [
    "---\n",
    "\n",
    "### Exercise 30:\n",
    "Find the row-wise and column-wise sum of a 3x3 matrix.\n",
    "\n",
    "```python\n",
    "# Exercise 30\n",
    "```"
   ]
  },
  {
   "cell_type": "code",
   "execution_count": 198,
   "id": "corresponding-fifteen",
   "metadata": {},
   "outputs": [
    {
     "name": "stdout",
     "output_type": "stream",
     "text": [
      "the array is : \n",
      " [[37 12 36]\n",
      " [42 41 57]\n",
      " [25 28 95]]\n",
      "The sum of each column is :  [104  81 188]\n",
      "The sum of each row is :  [ 85 140 148]\n"
     ]
    }
   ],
   "source": [
    "array=np.random.randint(100, size=(3,3))\n",
    "print('the array is : \\n', array)\n",
    "#sum of the colums\n",
    "sum_column=np.sum(array, axis=0)\n",
    "print('The sum of each column is : ', sum_column)\n",
    "#sum of the rows\n",
    "sum_row=np.sum(array, axis=1)\n",
    "print('The sum of each row is : ', sum_row)"
   ]
  },
  {
   "cell_type": "markdown",
   "id": "representative-transsexual",
   "metadata": {},
   "source": [
    "---\n",
    "\n",
    "### Exercise 31:\n",
    "Generate a 2D NumPy array with random values and normalize it (scale the values between 0 and 1).\n",
    "\n",
    "```python\n",
    "# Exercise 31\n",
    "```"
   ]
  },
  {
   "cell_type": "code",
   "execution_count": 204,
   "id": "challenging-drain",
   "metadata": {},
   "outputs": [
    {
     "name": "stdout",
     "output_type": "stream",
     "text": [
      "Previous array \n",
      "  [[88 33  8]\n",
      " [75 90 49]\n",
      " [68 35 53]]\n",
      "Normalize matrix : \n",
      "  [[ 1.32745468 -0.74463142 -1.40964666]\n",
      " [-0.2413554   1.41353761  0.60647589]\n",
      " [-1.08609928 -0.66890619  0.80317077]]\n"
     ]
    }
   ],
   "source": [
    "array=np.random.randint(100, size=(3,3))\n",
    "print('Previous array \\n ', array)\n",
    "mean_column=np.mean(array, axis=0)\n",
    "sd_column=np.std(array, axis=0)\n",
    "norm = (array-mean_column)/(sd_column)\n",
    "print('Normalize matrix : \\n ', norm)"
   ]
  },
  {
   "cell_type": "markdown",
   "id": "honey-glasgow",
   "metadata": {},
   "source": [
    "---\n",
    "\n",
    "### Exercise 32:\n",
    "Create two NumPy arrays and find the dot product.\n",
    "\n",
    "```python\n",
    "# Exercise 32\n",
    "```"
   ]
  },
  {
   "cell_type": "code",
   "execution_count": 207,
   "id": "grateful-decrease",
   "metadata": {},
   "outputs": [
    {
     "name": "stdout",
     "output_type": "stream",
     "text": [
      "Matrix 1 : \n",
      "  [[8 2 5 8 7]\n",
      " [4 9 5 0 6]\n",
      " [3 8 4 1 0]\n",
      " [9 9 4 2 2]\n",
      " [6 4 6 7 0]]\n",
      "Matrix 2 : \n",
      "  [[2 5 1 3 8]\n",
      " [2 5 4 4 5]\n",
      " [2 3 4 1 5]\n",
      " [8 0 0 4 5]\n",
      " [1 2 8 0 5]]\n",
      "M1 * M2 : \n",
      "  [[101  79  92  69 174]\n",
      " [ 42  92 108  53 132]\n",
      " [ 38  67  51  49  89]\n",
      " [ 62 106  77  75 157]\n",
      " [ 88  68  46  68 133]]\n"
     ]
    }
   ],
   "source": [
    "ar1=np.random.randint(10, size=(5,5))\n",
    "ar2=np.random.randint(10, size=(5,5))\n",
    "print('Matrix 1 : \\n ', ar1)\n",
    "print('Matrix 2 : \\n ', ar2)\n",
    "print('M1 * M2 : \\n ', np.dot(ar1, ar2))"
   ]
  },
  {
   "cell_type": "markdown",
   "id": "aboriginal-authentication",
   "metadata": {},
   "source": [
    "---\n",
    "\n",
    "### Exercise 33:\n",
    "Find the trace of a square NumPy matrix.\n",
    "\n",
    "```python\n",
    "# Exercise 33\n",
    "```"
   ]
  },
  {
   "cell_type": "code",
   "execution_count": 210,
   "id": "cleared-pressure",
   "metadata": {},
   "outputs": [
    {
     "name": "stdout",
     "output_type": "stream",
     "text": [
      "Matrix : \n",
      " [[1 4 0]\n",
      " [5 4 9]\n",
      " [6 1 2]]\n",
      "The trace is :  7\n"
     ]
    }
   ],
   "source": [
    "ar1=np.random.randint(10, size=(3,3))\n",
    "print('Matrix : \\n', ar1)\n",
    "print('The trace is : ', np.trace(ar1))"
   ]
  },
  {
   "cell_type": "markdown",
   "id": "reliable-genesis",
   "metadata": {},
   "source": [
    "---\n",
    "\n",
    "### Exercise 34:\n",
    "Create a 2D array and swap two rows.\n",
    "\n",
    "```python\n",
    "# Exercise 34\n",
    "```"
   ]
  },
  {
   "cell_type": "code",
   "execution_count": 218,
   "id": "roman-policy",
   "metadata": {},
   "outputs": [
    {
     "name": "stdout",
     "output_type": "stream",
     "text": [
      "Matrix : \n",
      " [[6 4 7 4 9]\n",
      " [1 0 4 5 7]\n",
      " [0 6 0 9 5]\n",
      " [8 2 8 3 2]]\n",
      "New Matrix : \n",
      " [[0 6 0 9 5]\n",
      " [1 0 4 5 7]\n",
      " [6 4 7 4 9]\n",
      " [8 2 8 3 2]]\n"
     ]
    }
   ],
   "source": [
    "ar1=np.random.randint(10, size=(4,5))\n",
    "print('Matrix : \\n', ar1)\n",
    "ar1[[0,2]]=ar1[[2,0]]\n",
    "print('New Matrix : \\n', ar1)"
   ]
  },
  {
   "cell_type": "markdown",
   "id": "cognitive-better",
   "metadata": {},
   "source": [
    "---\n",
    "\n",
    "### Exercise 35:\n",
    "Create a 1D NumPy array and convert it into a column vector.\n",
    "\n",
    "```python\n",
    "# Exercise 35\n",
    "```"
   ]
  },
  {
   "cell_type": "code",
   "execution_count": 227,
   "id": "irish-graham",
   "metadata": {},
   "outputs": [
    {
     "name": "stdout",
     "output_type": "stream",
     "text": [
      "Array : \n",
      " [4 8 0 9 1 7 1 2 7 6 6 7 5 1 9]\n"
     ]
    },
    {
     "data": {
      "text/plain": [
       "array([[4],\n",
       "       [8],\n",
       "       [0],\n",
       "       [9],\n",
       "       [1],\n",
       "       [7],\n",
       "       [1],\n",
       "       [2],\n",
       "       [7],\n",
       "       [6],\n",
       "       [6],\n",
       "       [7],\n",
       "       [5],\n",
       "       [1],\n",
       "       [9]])"
      ]
     },
     "execution_count": 227,
     "metadata": {},
     "output_type": "execute_result"
    }
   ],
   "source": [
    "ar1=np.random.randint(10, size=15)\n",
    "print('Array : \\n', ar1)\n",
    "b=ar1[...,None]\n",
    "b"
   ]
  },
  {
   "cell_type": "markdown",
   "id": "informative-lying",
   "metadata": {},
   "source": [
    "---\n",
    "\n",
    "### Exercise 36:\n",
    "Find the determinant of a 3x3 matrix.\n",
    "\n",
    "```python\n",
    "# Exercise 36\n",
    "```"
   ]
  },
  {
   "cell_type": "code",
   "execution_count": 232,
   "id": "damaged-singles",
   "metadata": {},
   "outputs": [
    {
     "name": "stdout",
     "output_type": "stream",
     "text": [
      "Matrix : \n",
      " [[9 0 6]\n",
      " [4 9 1]\n",
      " [0 0 6]]\n",
      "Determinant is : \n",
      " 486.0000000000004\n"
     ]
    }
   ],
   "source": [
    "ar1=np.random.randint(10, size=(3,3))\n",
    "print('Matrix : \\n', ar1)\n",
    "print('Determinant is : \\n', float(np.linalg.det(ar1)))"
   ]
  },
  {
   "cell_type": "markdown",
   "id": "velvet-anger",
   "metadata": {},
   "source": [
    "---\n",
    "\n",
    "### Exercise 37:\n",
    "Find the eigenvalues and eigenvectors of a 2x2 matrix.\n",
    "\n",
    "```python\n",
    "# Exercise 37\n",
    "```"
   ]
  },
  {
   "cell_type": "code",
   "execution_count": 247,
   "id": "manual-beginning",
   "metadata": {},
   "outputs": [
    {
     "name": "stdout",
     "output_type": "stream",
     "text": [
      "Eigen values : \n",
      " [9. 1.]\n",
      "EIgen vector : \n",
      " [[ 1.         -0.4472136 ]\n",
      " [ 0.          0.89442719]]\n"
     ]
    }
   ],
   "source": [
    "np.random.seed(10)\n",
    "ar1=np.random.randint(10, size=(2,2))\n",
    "bb=np.linalg.eig(ar1)\n",
    "print('Eigen values : \\n', bb[0])\n",
    "print('EIgen vector : \\n', bb[1])"
   ]
  },
  {
   "cell_type": "markdown",
   "id": "inclusive-graph",
   "metadata": {},
   "source": [
    "---\n",
    "\n",
    "### Exercise 38:\n",
    "Solve a system of linear equations using NumPy.\n",
    "\n",
    "```python\n",
    "# Exercise 38\n",
    "```"
   ]
  },
  {
   "cell_type": "code",
   "execution_count": 258,
   "id": "italic-greensboro",
   "metadata": {},
   "outputs": [
    {
     "name": "stdout",
     "output_type": "stream",
     "text": [
      "The matrix A is : \n",
      " [[ 9 36 15]\n",
      " [ 0 49 28]\n",
      " [25 29 48]]\n",
      "The matrix B is : \n",
      " [[29]\n",
      " [49]\n",
      " [ 8]]\n",
      "The solution is : \n",
      " [[-0.79830795]\n",
      " [ 1.01895093]\n",
      " [-0.03316413]]\n"
     ]
    }
   ],
   "source": [
    "np.random.seed(10)\n",
    "# A system equations has the form AX=B and the solution is $X=A^{-1}B$\n",
    "A=np.random.randint(50, size=(3,3))\n",
    "B=np.random.randint(50, size=(3,1))\n",
    "A_inverse=np.linalg.inv(A)\n",
    "X=np.dot(A_inverse,B)\n",
    "print('The matrix A is : \\n', A)\n",
    "print('The matrix B is : \\n', B)\n",
    "print('The solution is : \\n', X)"
   ]
  },
  {
   "cell_type": "markdown",
   "id": "linear-prize",
   "metadata": {},
   "source": [
    "---\n",
    "\n",
    "### Exercise 39:\n",
    "Add Gaussian noise to a NumPy array.\n",
    "\n",
    "```python\n",
    "# Exercise 39\n",
    "```"
   ]
  },
  {
   "cell_type": "code",
   "execution_count": 261,
   "id": "curious-genre",
   "metadata": {},
   "outputs": [
    {
     "data": {
      "text/plain": [
       "array([5.45187984, 4.14052582, 4.46520547, 6.03287114, 4.86376425,\n",
       "       5.17637307, 5.31085074, 6.72937588, 4.75933806, 3.97264798,\n",
       "       5.42401507, 6.40862087, 5.43999202, 4.57176561, 4.68798732,\n",
       "       4.43111661, 3.41505899, 6.05535316, 3.07342089, 5.69858388,\n",
       "       4.25379857, 4.84337334, 4.80636406, 6.13912535, 5.36221796,\n",
       "       4.40908701, 5.38936304, 4.47300385, 4.48569209, 5.89760917,\n",
       "       5.98925209, 5.25922513, 4.97580681, 5.35849666, 4.62245364,\n",
       "       5.69563116, 6.02484465, 6.70775544, 3.03288278, 4.12904333,\n",
       "       3.89317452, 5.27512366, 4.63554386, 3.83484653, 3.65693012,\n",
       "       6.45339286, 5.00116945, 4.98807962, 5.71588314, 3.81423145,\n",
       "       4.3636721 , 4.38918616, 3.6806086 , 4.43827158, 5.20538457,\n",
       "       4.04663932, 5.32151795, 3.47906133, 2.83854708, 5.34531329,\n",
       "       5.87896938, 5.56276301, 5.28843534, 3.9935185 , 5.05397842,\n",
       "       3.17327674, 4.90808516, 4.74681684, 6.38059377, 4.31657117,\n",
       "       4.68314885, 3.9827296 , 4.02587623, 4.966761  , 5.98288302,\n",
       "       4.53147105, 4.10466056, 4.92400359, 4.58479318, 5.90493907,\n",
       "       4.09710543, 5.24743239, 6.75223653, 5.34854848, 4.97709746,\n",
       "       4.03829831, 5.0792365 , 4.60672793, 4.39900559, 4.40515817,\n",
       "       3.34226333, 4.99492983, 5.79305654, 4.11088224, 4.0021832 ,\n",
       "       5.66989397, 5.64851164, 5.02573462, 5.58660498, 5.28408516])"
      ]
     },
     "execution_count": 261,
     "metadata": {},
     "output_type": "execute_result"
    }
   ],
   "source": [
    "gaussian_noise = np.random.normal(5, 1, 100)\n",
    "gaussian_noise"
   ]
  },
  {
   "cell_type": "markdown",
   "id": "european-sport",
   "metadata": {},
   "source": [
    "---\n",
    "\n",
    "### Exercise 40:\n",
    "Create a 4x4 matrix and extract the diagonal elements.\n",
    "\n",
    "```python\n",
    "# Exercise 40\n",
    "```"
   ]
  },
  {
   "cell_type": "code",
   "execution_count": 264,
   "id": "european-garlic",
   "metadata": {},
   "outputs": [
    {
     "name": "stdout",
     "output_type": "stream",
     "text": [
      "Matrix : \n",
      " [[ 9 12 16  4]\n",
      " [ 6  9  8 16]\n",
      " [11  7 17  7]\n",
      " [17  1 11 14]]\n",
      "Diagonal elements : [ 9  9 17 14]\n"
     ]
    }
   ],
   "source": [
    "ar1=np.random.randint(20, size=(4,4))\n",
    "print('Matrix : \\n', ar1)\n",
    "diag_elements=np.diag(ar1)\n",
    "print('Diagonal elements :', diag_elements)"
   ]
  },
  {
   "cell_type": "markdown",
   "id": "occasional-fruit",
   "metadata": {},
   "source": [
    "---\n",
    "\n",
    "### Exercise 41:\n",
    "Generate a NumPy array of 100 random values and clip the values to a range between 10 and 50.\n",
    "\n",
    "```python\n",
    "# Exercise 41\n",
    "```"
   ]
  },
  {
   "cell_type": "code",
   "execution_count": 266,
   "id": "enormous-grant",
   "metadata": {},
   "outputs": [],
   "source": [
    "array=np.random.randint(200, size=100)\n"
   ]
  },
  {
   "cell_type": "markdown",
   "id": "9a78d71c",
   "metadata": {},
   "source": [
    "---\n",
    "\n",
    "### Exercise 42:\n",
    "Create a 2D NumPy array and replace all negative values with zero.\n",
    "\n",
    "```python\n",
    "# Exercise 42\n",
    "```\n",
    "\n",
    "---\n",
    "\n",
    "### Exercise 43:\n",
    "Find the inner and outer products of two NumPy arrays.\n",
    "\n",
    "```python\n",
    "# Exercise 43\n",
    "```\n",
    "\n",
    "---\n",
    "\n",
    "### Exercise 44:\n",
    "Calculate the pairwise distances between points in a NumPy array.\n",
    "\n",
    "```python\n",
    "# Exercise 44\n",
    "```\n",
    "\n",
    "---\n",
    "\n",
    "### Exercise 45:\n",
    "Create a structured NumPy array with fields for `name`, `age`, and `height`.\n",
    "\n",
    "```python\n",
    "# Exercise 45\n",
    "```\n",
    "\n",
    "---\n",
    "\n",
    "### Exercise 46:\n",
    "Create a 5x5 matrix of random integers and count the occurrences of each unique value.\n",
    "\n",
    "```python\n",
    "# Exercise 46\n",
    "```\n",
    "\n",
    "---\n",
    "\n",
    "### Exercise 47:\n",
    "Generate a random 3x3 NumPy array and subtract the mean of each row from the corresponding row.\n",
    "\n",
    "```python\n",
    "# Exercise 47\n",
    "```\n",
    "\n",
    "---\n",
    "\n",
    "### Exercise 48:\n",
    "Create a NumPy array of random integers and check if any of the values are greater than 50.\n",
    "\n",
    "```python\n",
    "# Exercise 48\n",
    "```\n",
    "\n",
    "---\n",
    "\n",
    "### Exercise 49:\n",
    "Calculate the moving average of a 1D NumPy array.\n",
    "\n",
    "```python\n",
    "# Exercise 49\n",
    "```\n",
    "\n",
    "---\n",
    "\n",
    "### Exercise 50:\n",
    "Find the Pearson correlation coefficient between two NumPy arrays.\n",
    "\n",
    "```python\n",
    "# Exercise 50\n",
    "```\n",
    "\n",
    "---\n",
    "\n",
    "### Exercise 51:\n",
    "Convert a NumPy array of radians to degrees.\n",
    "\n",
    "```python\n",
    "# Exercise 51\n",
    "```\n",
    "\n",
    "---\n",
    "\n",
    "### Exercise 52:\n",
    "Create a random NumPy array and compute its variance and standard deviation.\n",
    "\n",
    "```python\n",
    "# Exercise 52\n",
    "```\n",
    "\n",
    "---\n",
    "\n",
    "### Exercise 53:\n",
    "Create a 2D NumPy array and find the indices of the maximum values along each axis.\n",
    "\n",
    "```python\n",
    "# Exercise 53\n",
    "```\n",
    "\n",
    "---\n",
    "\n",
    "### Exercise 54:\n",
    "Compute the inverse of a 2x2 NumPy matrix.\n",
    "\n",
    "```python\n",
    "# Exercise 54\n",
    "```\n",
    "\n",
    "---\n",
    "\n",
    "### Exercise 55:\n",
    "Create a NumPy array of 10 random values and standardize it (mean 0, variance 1).\n",
    "\n",
    "```python\n",
    "# Exercise 55\n",
    "```\n",
    "\n",
    "---\n",
    "\n",
    "### Exercise 56:\n",
    "Perform element-wise addition and subtraction on two NumPy arrays.\n",
    "\n",
    "```python\n",
    "# Exercise 56\n",
    "```\n",
    "\n",
    "---\n",
    "\n",
    "### Exercise 57:\n",
    "Create a NumPy array of random values and find the maximum element's index.\n",
    "\n",
    "```python\n",
    "# Exercise 57\n",
    "```\n",
    "\n",
    "---\n",
    "\n",
    "### Exercise 58:\n",
    "Create a 3x3 NumPy array and rotate it by 90 degrees.\n",
    "\n",
    "```python\n",
    "# Exercise 58\n",
    "```\n",
    "\n",
    "---\n",
    "\n",
    "### Exercise 59:\n",
    "Compute the Frobenius norm of a matrix.\n",
    "\n",
    "```python\n",
    "# Exercise 59\n",
    "```\n",
    "\n",
    "---\n",
    "\n",
    "### Exercise 60:\n",
    "Create a 3D NumPy array and slice out a subarray.\n",
    "\n",
    "```python\n",
    "# Exercise 60\n",
    "```\n",
    "\n",
    "---"
   ]
  },
  {
   "cell_type": "code",
   "execution_count": null,
   "id": "apparent-coordination",
   "metadata": {},
   "outputs": [],
   "source": []
  }
 ],
 "metadata": {
  "kernelspec": {
   "display_name": "Python 3",
   "language": "python",
   "name": "python3"
  },
  "language_info": {
   "codemirror_mode": {
    "name": "ipython",
    "version": 3
   },
   "file_extension": ".py",
   "mimetype": "text/x-python",
   "name": "python",
   "nbconvert_exporter": "python",
   "pygments_lexer": "ipython3",
   "version": "3.9.2"
  }
 },
 "nbformat": 4,
 "nbformat_minor": 5
}
